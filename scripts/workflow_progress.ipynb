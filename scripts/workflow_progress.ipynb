{
 "cells": [
  {
   "cell_type": "code",
   "execution_count": 1,
   "metadata": {},
   "outputs": [],
   "source": [
    "import pandas as pd"
   ]
  },
  {
   "cell_type": "code",
   "execution_count": 2,
   "metadata": {},
   "outputs": [],
   "source": [
    "import matplotlib.pyplot as plt"
   ]
  },
  {
   "cell_type": "code",
   "execution_count": 3,
   "metadata": {},
   "outputs": [],
   "source": [
    "from pandas.plotting import _converter"
   ]
  },
  {
   "cell_type": "code",
   "execution_count": 4,
   "metadata": {},
   "outputs": [],
   "source": [
    "from datetime import datetime"
   ]
  },
  {
   "cell_type": "code",
   "execution_count": 5,
   "metadata": {},
   "outputs": [],
   "source": [
    "from datetime import datetime"
   ]
  },
  {
   "cell_type": "code",
   "execution_count": 6,
   "metadata": {},
   "outputs": [],
   "source": [
    "df = pd.read_csv('jobs.csv', index_col=0, parse_dates=['time'])"
   ]
  },
  {
   "cell_type": "code",
   "execution_count": 7,
   "metadata": {},
   "outputs": [
    {
     "data": {
      "text/html": [
       "<div>\n",
       "<style scoped>\n",
       "    .dataframe tbody tr th:only-of-type {\n",
       "        vertical-align: middle;\n",
       "    }\n",
       "\n",
       "    .dataframe tbody tr th {\n",
       "        vertical-align: top;\n",
       "    }\n",
       "\n",
       "    .dataframe thead th {\n",
       "        text-align: right;\n",
       "    }\n",
       "</style>\n",
       "<table border=\"1\" class=\"dataframe\">\n",
       "  <thead>\n",
       "    <tr style=\"text-align: right;\">\n",
       "      <th></th>\n",
       "      <th>n_jobs</th>\n",
       "      <th>cum_jobs</th>\n",
       "      <th>cluster</th>\n",
       "    </tr>\n",
       "    <tr>\n",
       "      <th>time</th>\n",
       "      <th></th>\n",
       "      <th></th>\n",
       "      <th></th>\n",
       "    </tr>\n",
       "  </thead>\n",
       "  <tbody>\n",
       "    <tr>\n",
       "      <th>2018-03-23 08:00:00</th>\n",
       "      <td>3</td>\n",
       "      <td>293</td>\n",
       "      <td>UMCU</td>\n",
       "    </tr>\n",
       "    <tr>\n",
       "      <th>2018-03-19 11:00:00</th>\n",
       "      <td>2</td>\n",
       "      <td>16</td>\n",
       "      <td>UMCU</td>\n",
       "    </tr>\n",
       "    <tr>\n",
       "      <th>2018-03-25 04:00:00</th>\n",
       "      <td>1</td>\n",
       "      <td>358</td>\n",
       "      <td>UMCU</td>\n",
       "    </tr>\n",
       "    <tr>\n",
       "      <th>2018-03-24 10:00:00</th>\n",
       "      <td>2</td>\n",
       "      <td>341</td>\n",
       "      <td>UMCU</td>\n",
       "    </tr>\n",
       "    <tr>\n",
       "      <th>2018-03-20 12:00:00</th>\n",
       "      <td>1</td>\n",
       "      <td>57</td>\n",
       "      <td>UMCU</td>\n",
       "    </tr>\n",
       "    <tr>\n",
       "      <th>2018-03-19 14:00:00</th>\n",
       "      <td>2</td>\n",
       "      <td>21</td>\n",
       "      <td>UMCU</td>\n",
       "    </tr>\n",
       "    <tr>\n",
       "      <th>2018-03-22 00:00:00</th>\n",
       "      <td>7</td>\n",
       "      <td>181</td>\n",
       "      <td>UMCU</td>\n",
       "    </tr>\n",
       "    <tr>\n",
       "      <th>2018-03-21 21:00:00</th>\n",
       "      <td>3</td>\n",
       "      <td>168</td>\n",
       "      <td>UMCU</td>\n",
       "    </tr>\n",
       "    <tr>\n",
       "      <th>2018-03-24 02:00:00</th>\n",
       "      <td>1</td>\n",
       "      <td>325</td>\n",
       "      <td>UMCU</td>\n",
       "    </tr>\n",
       "    <tr>\n",
       "      <th>2018-03-21 06:00:00</th>\n",
       "      <td>2</td>\n",
       "      <td>42</td>\n",
       "      <td>Cartesius</td>\n",
       "    </tr>\n",
       "    <tr>\n",
       "      <th>2018-03-21 11:00:00</th>\n",
       "      <td>2</td>\n",
       "      <td>134</td>\n",
       "      <td>UMCU</td>\n",
       "    </tr>\n",
       "    <tr>\n",
       "      <th>2018-03-24 20:00:00</th>\n",
       "      <td>2</td>\n",
       "      <td>351</td>\n",
       "      <td>UMCU</td>\n",
       "    </tr>\n",
       "    <tr>\n",
       "      <th>2018-03-19 02:00:00</th>\n",
       "      <td>2</td>\n",
       "      <td>5</td>\n",
       "      <td>UMCU</td>\n",
       "    </tr>\n",
       "    <tr>\n",
       "      <th>2018-03-18 23:00:00</th>\n",
       "      <td>1</td>\n",
       "      <td>3</td>\n",
       "      <td>UMCU</td>\n",
       "    </tr>\n",
       "    <tr>\n",
       "      <th>2018-03-19 22:00:00</th>\n",
       "      <td>1</td>\n",
       "      <td>35</td>\n",
       "      <td>UMCU</td>\n",
       "    </tr>\n",
       "    <tr>\n",
       "      <th>2018-03-19 18:00:00</th>\n",
       "      <td>2</td>\n",
       "      <td>28</td>\n",
       "      <td>UMCU</td>\n",
       "    </tr>\n",
       "    <tr>\n",
       "      <th>2018-03-23 06:00:00</th>\n",
       "      <td>6</td>\n",
       "      <td>288</td>\n",
       "      <td>UMCU</td>\n",
       "    </tr>\n",
       "    <tr>\n",
       "      <th>2018-03-22 14:00:00</th>\n",
       "      <td>4</td>\n",
       "      <td>70</td>\n",
       "      <td>Cartesius</td>\n",
       "    </tr>\n",
       "  </tbody>\n",
       "</table>\n",
       "</div>"
      ],
      "text/plain": [
       "                     n_jobs  cum_jobs    cluster\n",
       "time                                            \n",
       "2018-03-23 08:00:00       3       293       UMCU\n",
       "2018-03-19 11:00:00       2        16       UMCU\n",
       "2018-03-25 04:00:00       1       358       UMCU\n",
       "2018-03-24 10:00:00       2       341       UMCU\n",
       "2018-03-20 12:00:00       1        57       UMCU\n",
       "2018-03-19 14:00:00       2        21       UMCU\n",
       "2018-03-22 00:00:00       7       181       UMCU\n",
       "2018-03-21 21:00:00       3       168       UMCU\n",
       "2018-03-24 02:00:00       1       325       UMCU\n",
       "2018-03-21 06:00:00       2        42  Cartesius\n",
       "2018-03-21 11:00:00       2       134       UMCU\n",
       "2018-03-24 20:00:00       2       351       UMCU\n",
       "2018-03-19 02:00:00       2         5       UMCU\n",
       "2018-03-18 23:00:00       1         3       UMCU\n",
       "2018-03-19 22:00:00       1        35       UMCU\n",
       "2018-03-19 18:00:00       2        28       UMCU\n",
       "2018-03-23 06:00:00       6       288       UMCU\n",
       "2018-03-22 14:00:00       4        70  Cartesius"
      ]
     },
     "execution_count": 7,
     "metadata": {},
     "output_type": "execute_result"
    }
   ],
   "source": [
    "df.sample(frac=0.1)"
   ]
  },
  {
   "cell_type": "code",
   "execution_count": 8,
   "metadata": {},
   "outputs": [],
   "source": [
    "df2 = df.pivot(columns='cluster', values='cum_jobs')"
   ]
  },
  {
   "cell_type": "code",
   "execution_count": 9,
   "metadata": {},
   "outputs": [
    {
     "data": {
      "text/plain": [
       "Text(0,0.5,'no. of completed jobs')"
      ]
     },
     "execution_count": 9,
     "metadata": {},
     "output_type": "execute_result"
    },
    {
     "data": {
      "image/png": "[encoded data removed]",
      "text/plain": [
       "<Figure size 432x288 with 1 Axes>"
      ]
     },
     "metadata": {},
     "output_type": "display_data"
    }
   ],
   "source": [
    "df2.plot(style='.', color=['red','blue'], legend=False, xlim=datetime.strptime('2018-03-18', '%Y-%m-%d'), yticks=range(0, max(df.cum_jobs), 50), figsize=(6, 4)).set_ylabel('no. of completed jobs')"
   ]
  }
 ],
 "metadata": {
  "kernelspec": {
   "display_name": "Python 3",
   "language": "python",
   "name": "python3"
  },
  "language_info": {
   "codemirror_mode": {
    "name": "ipython",
    "version": 3
   },
   "file_extension": ".py",
   "mimetype": "text/x-python",
   "name": "python",
   "nbconvert_exporter": "python",
   "pygments_lexer": "ipython3",
   "version": "3.6.3"
  }
 },
 "nbformat": 4,
 "nbformat_minor": 2
}
