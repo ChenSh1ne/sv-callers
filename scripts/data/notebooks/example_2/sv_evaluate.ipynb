{
 "cells": [
  {
   "cell_type": "markdown",
   "metadata": {},
   "source": [
    "## Evaluate SV callsets of Manta, DELLY, LUMPY and GRIDSS based on two truth sets:\n",
    "\n",
    "- Personalis/1000 Genomes Project data [(Parikh et al., 2016)](https://doi.org/10.1186%2Fs12864-016-2366-2),\n",
    "- PacBio/Moleculo data [(Layer et al., 2014)](https://doi.org/10.1186/gb-2014-15-6-r84).\n"
   ]
  },
  {
   "cell_type": "code",
   "execution_count": null,
   "metadata": {},
   "outputs": [],
   "source": [
    "library(tools)\n",
    "suppressPackageStartupMessages(require(StructuralVariantAnnotation))"
   ]
  },
  {
   "cell_type": "markdown",
   "metadata": {},
   "source": [
    "### user input"
   ]
  },
  {
   "cell_type": "code",
   "execution_count": null,
   "metadata": {},
   "outputs": [],
   "source": [
    "sel.idx <- 1  # select one of the truth sets: 1 = Personalis1kGP or 2 = PacbioMoleculo"
   ]
  },
  {
   "cell_type": "code",
   "execution_count": null,
   "metadata": {},
   "outputs": [],
   "source": [
    "min.supp <- 3  # min. number of supporting callers"
   ]
  },
  {
   "cell_type": "code",
   "execution_count": null,
   "metadata": {},
   "outputs": [],
   "source": [
    "base.dir <- file.path('..', '..')\n",
    "data.dir <- file.path(base.dir, 'benchmark', 'out', '3', 'S3')  # with SV callsets"
   ]
  },
  {
   "cell_type": "markdown",
   "metadata": {},
   "source": [
    "### store file names/paths"
   ]
  },
  {
   "cell_type": "code",
   "execution_count": null,
   "metadata": {},
   "outputs": [],
   "source": [
    "truth.sets <- list()\n",
    "truth.sets$Personalis1kGP <- list(\n",
    "    sv.file='Personalis_1000_Genomes_deduplicated_deletions.bed',\n",
    "    excl.file='ENCFF001TDO.bed')\n",
    "truth.sets$PacbioMoleculo <- list(\n",
    "    sv.file='3717462611446476_add4.bedpe',\n",
    "    excl.file='ceph18.b37.lumpy.exclude.2014-01-15.bed')\n",
    "truth.sets <- lapply(truth.sets, lapply,\n",
    "                     function(fn){file.path(base.dir, 'benchmark', 'in', fn)})"
   ]
  },
  {
   "cell_type": "code",
   "execution_count": null,
   "metadata": {},
   "outputs": [],
   "source": [
    "#truth.sets"
   ]
  },
  {
   "cell_type": "markdown",
   "metadata": {},
   "source": [
    "### define helper functions"
   ]
  },
  {
   "cell_type": "code",
   "execution_count": null,
   "metadata": {},
   "outputs": [],
   "source": [
    "# get VCF file path given a caller\n",
    "getVcf <- function(caller) {\n",
    "    return(file.path(data.dir, paste0(caller, '_out'), paste0(caller, '.vcf')))\n",
    "}"
   ]
  },
  {
   "cell_type": "code",
   "execution_count": null,
   "metadata": {},
   "outputs": [],
   "source": [
    "# assign SV types\n",
    "# https://github.com/PapenfussLab/gridss/blob/7b1fedfed32af9e03ed5c6863d368a821a4c699f/example/simple-event-annotation.R#L9\n",
    "getSvType <- function(gr) {\n",
    "    return(ifelse(seqnames(gr) != seqnames(partner(gr)), 'CTX',\n",
    "        ifelse(gr$insLen >= abs(gr$svLen) * 0.7, 'INS',\n",
    "            ifelse(strand(gr) == strand(partner(gr)), 'INV',\n",
    "                ifelse(xor(start(gr) < start(partner(gr)), strand(gr) == '-'),\n",
    "                    'DEL', 'DUP')))))\n",
    "}"
   ]
  },
  {
   "cell_type": "code",
   "execution_count": null,
   "metadata": {},
   "outputs": [],
   "source": [
    "# compute performance metrics for a callset\n",
    "getPerfMetrics <- function(callset, hits, n.true) {\n",
    "    n <- length(hits)\n",
    "    tp <- sum(hits)\n",
    "    fp <- n - tp\n",
    "    fn <- n.true - tp\n",
    "    prec <- round(tp * 100 / n, digits=1)\n",
    "    rec <- round(tp * 100 / n.true, digits=1)\n",
    "    return(list(callset=callset, n=n, tp=tp, fp=fp, fn=fn, precision=prec,\n",
    "                recall=rec))\n",
    "}"
   ]
  },
  {
   "cell_type": "code",
   "execution_count": null,
   "metadata": {},
   "outputs": [],
   "source": [
    "# exclude genomic regions\n",
    "excludeRegions <- function(query.gr, subject.gr) {\n",
    "    return(query.gr[!(overlapsAny(query.gr, subject.gr) |\n",
    "                      overlapsAny(partner(query.gr), subject.gr)), ])\n",
    "}"
   ]
  },
  {
   "cell_type": "code",
   "execution_count": null,
   "metadata": {},
   "outputs": [],
   "source": [
    "# count breakpoint overlaps (hits)\n",
    "getHits <- function(query.gr, subject.gr) {\n",
    "    return(countBreakpointOverlaps(query.gr, subject.gr, maxgap=100,\n",
    "                                   sizemargin=0.25, ignore.strand=TRUE,\n",
    "                                   restrictMarginToSizeMultiple=0.5,\n",
    "                                   countOnlyBest=TRUE))\n",
    "}"
   ]
  },
  {
   "cell_type": "markdown",
   "metadata": {},
   "source": [
    "### convert BED to BEDPE file if applicable\n"
   ]
  },
  {
   "cell_type": "code",
   "execution_count": null,
   "metadata": {},
   "outputs": [],
   "source": [
    "bed.file <- truth.sets$Personalis1kGP$sv.file\n",
    "bedpe.file <- paste0(file_path_sans_ext(bed.file), '.bedpe')\n",
    "if(!file.exists(bedpe.file)) {\n",
    "    cmd <- paste(\"awk 'BEGIN {a=0; OFS=\\\"\\t\\\"} NR>1 {print $1,$2,$2+1,$1,$3,\\\n",
    "                 $3+1,\\\"DEL_\\\" a,-1,\\\"+\\\",\\\"+\\\",\\\"DEL\\\"; a+=1}'\", bed.file, '>',\n",
    "                 bedpe.file)\n",
    "    system(cmd)\n",
    "}\n",
    "\n",
    "if(file.exists(bedpe.file)) {\n",
    "    truth.sets$Personalis1kGP$sv.file <- bedpe.file\n",
    "}"
   ]
  },
  {
   "cell_type": "markdown",
   "metadata": {},
   "source": [
    "### import \"true\" deletions from BEDPE file"
   ]
  },
  {
   "cell_type": "code",
   "execution_count": null,
   "metadata": {},
   "outputs": [],
   "source": [
    "bedpe.file <- truth.sets[[sel.idx]]$sv.file\n",
    "true.gr <- pairs2breakpointgr(rtracklayer::import(bedpe.file))\n",
    "seqlevelsStyle(true.gr) <- 'NCBI'  # chr[X] -> [X]\n",
    "min.svLen <- min(abs(end(partner(true.gr)) - start(true.gr)) + 1)\n",
    "message('### Truth set ###')\n",
    "message('input = ', bedpe.file)\n",
    "message('n = ', length(true.gr))\n",
    "message('min.svLen = ', min.svLen)"
   ]
  },
  {
   "cell_type": "markdown",
   "metadata": {},
   "source": [
    "### filter the deletions by an exclusion list"
   ]
  },
  {
   "cell_type": "code",
   "execution_count": null,
   "metadata": {},
   "outputs": [],
   "source": [
    "bed.excl.file <- truth.sets[[sel.idx]]$excl.file\n",
    "excl.gr <- rtracklayer::import(bed.excl.file)\n",
    "seqlevelsStyle(excl.gr) <- 'NCBI'  # chr[X] -> X\n",
    "message('\\n### Exclusion list ###')\n",
    "message('input = ', bed.excl.file)\n",
    "print(seqnames(excl.gr))\n",
    "\n",
    "true.gr <- excludeRegions(true.gr, excl.gr)\n",
    "min.svlen <- min(abs(end(partner(true.gr)) - start(true.gr)) + 1)\n",
    "n.true <- length(true.gr)\n",
    "message('\\n### Truth set filtered by the exclusion list ###')\n",
    "message('n = ', n.true)\n",
    "message('min.svLen = ', min.svLen)"
   ]
  },
  {
   "cell_type": "markdown",
   "metadata": {},
   "source": [
    "### import SV callsets from VCF files"
   ]
  },
  {
   "cell_type": "code",
   "execution_count": null,
   "metadata": {},
   "outputs": [],
   "source": [
    "callers <- c('manta', 'delly', 'lumpy', 'gridss')\n",
    "hits.df <- data.frame(callset=character(), n=numeric(), tp=numeric(),\n",
    "                      fp=numeric(), precision=numeric(), recall=numeric())\n",
    "for (c in callers) {\n",
    "  vcf.file <- getVcf(c)\n",
    "  vcf <- VariantAnnotation::readVcf(vcf.file)\n",
    "  # select only DELs\n",
    "  gr <- breakpointRanges(vcf)\n",
    "  gr$svtype <- getSvType(gr)\n",
    "  gr <- gr[gr$svtype == 'DEL']\n",
    "  message('\\n### All DELs ###')\n",
    "  message('# ', c)\n",
    "  message('n = ', length(gr))\n",
    "  print(summary(gr$svLen))\n",
    "\n",
    "  message('\\n### DELs svLen != NA ###')\n",
    "  gr <- gr[!is.na(gr$svLen)]\n",
    "  message('# ', c)\n",
    "  message('n = ', length(gr))\n",
    "  print(summary(gr$svLen))\n",
    "\n",
    "  gr <- gr[abs(gr$svLen) >= min.svLen]\n",
    "  message('\\n### DELs svLen >= min.svLen ###')\n",
    "  message('# ', c)\n",
    "  message('n = ', length(gr))\n",
    "  print(summary(gr$svLen))\n",
    "\n",
    "  gr <- excludeRegions(gr, excl.gr)\n",
    "  message('\\n### DELs >= min.svlen AND filtered by the exclusion list ###')\n",
    "  message('# ', c)\n",
    "  message('n = ', length(gr))\n",
    "  print(summary(gr$svLen))\n",
    "\n",
    "  hits <- getHits(gr, true.gr)\n",
    "  pm <- getPerfMetrics(c, hits, n.true)\n",
    "  hits.df <- rbind(hits.df, data.frame(pm))\n",
    "}"
   ]
  },
  {
   "cell_type": "markdown",
   "metadata": {},
   "source": [
    "### import merged callset from VCF file"
   ]
  },
  {
   "cell_type": "code",
   "execution_count": null,
   "metadata": {},
   "outputs": [],
   "source": [
    "# fix: replace ':' by '_' in ID & SAMPLE fields\n",
    "vcf.infile <- file.path(data.dir, 'all.vcf')\n",
    "vcf.outfile <- 'merge.vcf'\n",
    "cmd <- paste(\"awk '{if ($1 ~ /^#/){print} else {id=$3; gsub(\\\":\\\",\\\"_\\\",$3);\\\n",
    "             gsub(id,$3,$10); print}}'\", vcf.infile, '>', vcf.outfile)\n",
    "system(cmd)"
   ]
  },
  {
   "cell_type": "code",
   "execution_count": null,
   "metadata": {},
   "outputs": [],
   "source": [
    "vcf <- VariantAnnotation::readVcf(vcf.outfile)\n",
    "# fix: INFO/CI{END,POS} types: String->Integer\n",
    "info(header(vcf))$Type[1:2] <- c(\"Integer\", \"Integer\")\n",
    "vcf <- vcf[which(info(vcf)$SVTYPE == 'DEL')]  # keep only deletions\n",
    "vcf <- vcf[which(as.integer(info(vcf)$SUPP) >= min.supp, TRUE)]  # filter calls by support or\n",
    "#vcf <- vcf[which(info(vcf)$SUPP_VEC == '1101', TRUE)]           # binary vector (MDLG)\n",
    "# fix: CI{POS,END}} type: CharacterList->IntegerList\n",
    "info(vcf)$CIPOS <- IntegerList(info(vcf)$CIPOS)\n",
    "info(vcf)$CIEND <- IntegerList(info(vcf)$CIEND)"
   ]
  },
  {
   "cell_type": "markdown",
   "metadata": {},
   "source": [
    "### evaluate SV break-points based on the truth set"
   ]
  },
  {
   "cell_type": "code",
   "execution_count": null,
   "metadata": {},
   "outputs": [],
   "source": [
    "gr <- breakpointRanges(vcf)\n",
    "gr <- excludeRegions(gr, excl.gr)\n",
    "hits <- getHits(gr, true.gr)\n",
    "callset <- file_path_sans_ext(vcf.outfile)\n",
    "pm <- getPerfMetrics(callset, hits, n.true)\n",
    "hits.df <- rbind(hits.df, data.frame(pm))\n",
    "message('\\n### Performance metrics ###')\n",
    "message('min.supp = ', min.supp, '\\n')"
   ]
  },
  {
   "cell_type": "markdown",
   "metadata": {},
   "source": [
    "### write performance metrics into CSV file"
   ]
  },
  {
   "cell_type": "code",
   "execution_count": null,
   "metadata": {},
   "outputs": [],
   "source": [
    "hits.df"
   ]
  },
  {
   "cell_type": "code",
   "execution_count": null,
   "metadata": {},
   "outputs": [],
   "source": [
    "csv.file <- paste0(names(truth.sets)[sel.idx], '_', 'metrics_supp-', min.supp, '.csv')\n",
    "write.table(hits.df, file=csv.file, row.names=FALSE, col.names=TRUE,\n",
    "            quote=FALSE, sep=',')"
   ]
  }
 ],
 "metadata": {
  "kernelspec": {
   "display_name": "R",
   "language": "R",
   "name": "ir"
  },
  "language_info": {
   "codemirror_mode": "r",
   "file_extension": ".r",
   "mimetype": "text/x-r-source",
   "name": "R",
   "pygments_lexer": "r",
   "version": "3.6.1"
  }
 },
 "nbformat": 4,
 "nbformat_minor": 2
}
